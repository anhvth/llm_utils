{
 "cells": [
  {
   "cell_type": "code",
   "execution_count": 1,
   "id": "40b1de84",
   "metadata": {},
   "outputs": [
    {
     "name": "stdout",
     "output_type": "stream",
     "text": [
      "\u001b[34m\u001b[1mDEBUG   \u001b[0m | \u001b[36mutils_print.py:324 (setup_logger)\u001b[0m - \u001b[34m\u001b[1mLogging set to DEBUG\u001b[0m\n"
     ]
    }
   ],
   "source": [
    "from llm_utils import *\n",
    "from speedy_utils import *"
   ]
  },
  {
   "cell_type": "code",
   "execution_count": 2,
   "id": "621ca558",
   "metadata": {},
   "outputs": [],
   "source": [
    "from llm_utils.lm_pydantic import initialize_lm_from_sample"
   ]
  },
  {
   "cell_type": "code",
   "execution_count": 5,
   "id": "d8e86563",
   "metadata": {},
   "outputs": [
    {
     "data": {
      "text/plain": [
       "+----------------+--------------------------------------------------------------------------------------------------------------------------------------------------------------------------------------------------------------------------------------------------------------------------------------------------------------------------------------+\n",
       "| System Prompt  | You are Translation Evaluator G1.                                                                                                                                                                                                                                                                                                    |\n",
       "|                | Input: User provides a JSON string with keys: \"text_to_translate\" (source CN/KR/JP), \"human_translation\", \"ai_translation\", \"glossary\" (a string representation of a Python dict like \"{'term':'translation'}\" or \"{}\").                                                                                                             |\n",
       "|                | Task: Evaluate translations for game localization (accuracy, fluency, tags, terminology). Strictly enforce terms parsed from the \"glossary\" string.                                                                                                                                                                                  |\n",
       "|                | Output: Respond with ONLY a valid JSON string containing your evaluation. The JSON object must have these keys: \"human_score\" (int 0-100), \"ai_score\" (int 0-100), \"suggest_glossary\" (string \"Source:Target;...\" or \"\"), \"suggestion_to_improve_ai\" (string, an actionable prompt to fix AI errors if ai_score < 96, otherwise \"\"). |\n",
       "|                | Base scores on quality: 96-100=Excellent, 81-95=Very Good, 61-80=Good, 41-60=Fair, <41=Poor/Very Poor.                                                                                                                                                                                                                               |\n",
       "|                | Example Output JSON string: \"{\\\"human_score\\\":85,\\\"ai_score\\\":70,\\\"suggest_glossary\\\":\\\"MissingTerm:SuggestedTerm\\\",\\\"suggestion_to_improve_ai\\\":\\\"Retranslate using 'Glossar...                                                                                                                                                     |\n",
       "+----------------+--------------------------------------------------------------------------------------------------------------------------------------------------------------------------------------------------------------------------------------------------------------------------------------------------------------------------------------+\n",
       "| Example Input  | {                                                                                                                                                                                                                                                                                                                                    |\n",
       "|                |   \"text_to_translate\": \"命魂技最终增伤\",                                                                                                                                                                                                                                                                                             |\n",
       "|                |   \"human_translation\": \"เพิ่มดาเมจสุดท้ายสกิลวิญญาณ\",                                                                                                                                                                                                                                                                                      |\n",
       "|                |   \"ai_translation\": \"เพิ่มดาเมจสุดท้ายของสกิลวิญญาณ\",                                                                                                                                                                                                                                                                                      |\n",
       "|                |   \"glossary\": \"{'最终增伤': 'เพิ่มดาเมจสุดท้าย', '命魂技': 'สกิลวิญญาณ', '命魂': 'วิญญาณ', '增伤': 'เพิ่มดาเมจ', '魂': 'จิต'}\"                                                                                                                                                                                                                 |\n",
       "|                | }                                                                                                                                                                                                                                                                                                                                    |\n",
       "+----------------+--------------------------------------------------------------------------------------------------------------------------------------------------------------------------------------------------------------------------------------------------------------------------------------------------------------------------------------+\n",
       "| Example Output | {                                                                                                                                                                                                                                                                                                                                    |\n",
       "|                |   \"human_score\": \"85\",                                                                                                                                                                                                                                                                                                               |\n",
       "|                |   \"ai_score\": \"98\",                                                                                                                                                                                                                                                                                                                  |\n",
       "|                |   \"suggest_glossary\": \"\",                                                                                                                                                                                                                                                                                                            |\n",
       "|                |   \"suggestion_to_improve_ai\": \"\"                                                                                                                                                                                                                                                                                                     |\n",
       "|                | }                                                                                                                                                                                                                                                                                                                                    |\n",
       "+----------------+--------------------------------------------------------------------------------------------------------------------------------------------------------------------------------------------------------------------------------------------------------------------------------------------------------------------------------------+\n",
       "| Input Model    | InputModel (fields: text_to_translate, human_translation, ai_translation, glossary)                                                                                                                                                                                                                                                  |\n",
       "+----------------+--------------------------------------------------------------------------------------------------------------------------------------------------------------------------------------------------------------------------------------------------------------------------------------------------------------------------------------+\n",
       "| Output Model   | OutputModel (fields: human_score, ai_score, suggest_glossary, suggestion_to_improve_ai)                                                                                                                                                                                                                                              |\n",
       "+----------------+--------------------------------------------------------------------------------------------------------------------------------------------------------------------------------------------------------------------------------------------------------------------------------------------------------------------------------------+\n",
       "| Language Model | openai/lora_model                                                                                                                                                                                                                                                                                                                    |\n",
       "+----------------+--------------------------------------------------------------------------------------------------------------------------------------------------------------------------------------------------------------------------------------------------------------------------------------------------------------------------------------+"
      ]
     },
     "execution_count": 5,
     "metadata": {},
     "output_type": "execute_result"
    }
   ],
   "source": [
    "classifier = initialize_lm_from_sample('/shared-mnt/data/sharegpt/2025-04-25-translation-evaluation-o3-10k.json',\n",
    "                                       port=8165, model='lora_model')\n",
    "classifier"
   ]
  },
  {
   "cell_type": "code",
   "execution_count": 6,
   "id": "89168eda",
   "metadata": {},
   "outputs": [
    {
     "data": {
      "text/plain": [
       "OutputModel(human_score='95', ai_score='95', suggest_glossary='', suggestion_to_improve_ai='\"Use glossary term \\'เพิ่มดาเมจสุดท้าย\\' for \\'最终增伤\\' and keep \\'สกิลวิญญาณ\\' for \\'命魂技\\'.\"')"
      ]
     },
     "execution_count": 6,
     "metadata": {},
     "output_type": "execute_result"
    }
   ],
   "source": [
    "classifier(classifier.example_input)"
   ]
  },
  {
   "cell_type": "code",
   "execution_count": null,
   "id": "86268c50",
   "metadata": {},
   "outputs": [],
   "source": []
  },
  {
   "cell_type": "code",
   "execution_count": null,
   "id": "ef0980bc",
   "metadata": {},
   "outputs": [],
   "source": []
  }
 ],
 "metadata": {
  "kernelspec": {
   "display_name": "default",
   "language": "python",
   "name": "python3"
  },
  "language_info": {
   "codemirror_mode": {
    "name": "ipython",
    "version": 3
   },
   "file_extension": ".py",
   "mimetype": "text/x-python",
   "name": "python",
   "nbconvert_exporter": "python",
   "pygments_lexer": "ipython3",
   "version": "3.12.9"
  }
 },
 "nbformat": 4,
 "nbformat_minor": 5
}
