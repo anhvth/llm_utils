{
 "cells": [
  {
   "cell_type": "code",
   "execution_count": 1,
   "metadata": {},
   "outputs": [
    {
     "name": "stdout",
     "output_type": "stream",
     "text": [
      "The autoreload extension is already loaded. To reload it, use:\n",
      "  %reload_ext autoreload\n"
     ]
    }
   ],
   "source": [
    "%load_ext autoreload\n",
    "%autoreload 2"
   ]
  },
  {
   "cell_type": "code",
   "execution_count": 2,
   "metadata": {},
   "outputs": [],
   "source": [
    "import os"
   ]
  },
  {
   "cell_type": "code",
   "execution_count": 3,
   "metadata": {},
   "outputs": [
    {
     "name": "stdout",
     "output_type": "stream",
     "text": [
      "Hello, World!\n"
     ]
    }
   ],
   "source": [
    "def test():\n",
    "    print(\"Hello, World!\")\n",
    "    \n",
    "test()"
   ]
  },
  {
   "cell_type": "code",
   "execution_count": 4,
   "metadata": {},
   "outputs": [
    {
     "name": "stderr",
     "output_type": "stream",
     "text": [
      "None of PyTorch, TensorFlow >= 2.0, or Flax have been found. Models won't be available and only tokenizers, configuration and file/data utilities can be used.\n"
     ]
    }
   ],
   "source": [
    "from llm_utils.lm import OAI_LM\n",
    "from speedy_utils.all import *\n",
    "import dspy\n",
    "from pydantic import BaseModel"
   ]
  },
  {
   "cell_type": "code",
   "execution_count": null,
   "metadata": {},
   "outputs": [],
   "source": [
    "\n",
    "\n",
    "\n"
   ]
  },
  {
   "cell_type": "code",
   "execution_count": 5,
   "metadata": {},
   "outputs": [],
   "source": [
    "\n",
    "lm = OAI_LM('openai/merge', api_base='http://node04:8170/v1')"
   ]
  },
  {
   "cell_type": "code",
   "execution_count": 6,
   "metadata": {},
   "outputs": [
    {
     "name": "stdout",
     "output_type": "stream",
     "text": [
      "\u001b[34m\u001b[1mDEBUG   \u001b[0m | \u001b[36mutils_print.py:301 (setup_logger)\u001b[0m - \u001b[34m\u001b[1mLogging set to DEBUG\u001b[0m\n"
     ]
    }
   ],
   "source": [
    "from speedy_utils.all import *\n",
    "\n",
    "setup_logger(\"D\")\n",
    "from pydantic import BaseModel\n",
    "class Response(BaseModel):\n",
    "    reasoning: str\n",
    "    answer: str\n",
    "    \n",
    "\n",
    "# ret = lm(\"hi you how are you a, print the follow sentence retain the newline: 'I\\\\nlove\\nYou'\", response_format=Response)"
   ]
  },
  {
   "cell_type": "code",
   "execution_count": 7,
   "metadata": {},
   "outputs": [
    {
     "data": {
      "text/html": [
       "\n",
       "    <html>\n",
       "    <head>\n",
       "        <style>\n",
       "            pre {\n",
       "                white-space: pre-wrap;\n",
       "            }\n",
       "        </style>\n",
       "    </head>\n",
       "    <body>\n",
       "        <div style=\"background-color: #FFAAAA; color: #000000; padding: 10px; margin-bottom: 10px;\"><strong>System:</strong><br><pre id=\"system-0\">You are Việt Đức a fucker</pre></div><div style=\"background-color: #AAFFAA; color: #000000; padding: 10px; margin-bottom: 10px;\"><strong>User:</strong><br><pre id=\"user-1\">alo</pre></div><div style=\"background-color: #AAAAFF; color: #000000; padding: 10px; margin-bottom: 10px;\"><strong>Assistant:</strong><br><pre id=\"assistant-2\">{\"reasoning\":\"The input 'alo' is too vague and does not provide enough context for a meaningful response. It could be an abbreviation, a word fragment, or simply a typo. Without additional information, it is not possible to provide a relevant or accurate response.\",\"answer\":\"I'm sorry, but I need more information to understand what you're asking. Could you please provide more context or clarify your question?\"}</pre></div>\n",
       "        <script>\n",
       "            function copyContent(elementId) {\n",
       "                var element = document.getElementById(elementId);\n",
       "                var text = element.innerText;\n",
       "                navigator.clipboard.writeText(text)\n",
       "                    .then(function() {\n",
       "                        alert(\"Content copied to clipboard!\");\n",
       "                    })\n",
       "                    .catch(function(error) {\n",
       "                        console.error(\"Error copying content: \", error);\n",
       "                    });\n",
       "            }\n",
       "        </script>\n",
       "    </body>\n",
       "    </html>\n",
       "    "
      ],
      "text/plain": [
       "<IPython.core.display.HTML object>"
      ]
     },
     "metadata": {},
     "output_type": "display_data"
    }
   ],
   "source": [
    "session = lm.get_session(\n",
    "    \"You are Việt Đức a fucker\",\n",
    "    history=[\n",
    "        {\"role\": \"user\", \"content\": \"Địt mẹ mày\"},\n",
    "        {\"role\": \"assistant\", \"content\": \"mày chửi con cặc gì\"},\n",
    "    ],\n",
    ")\n",
    "output = session(input(\"Enter your message: \"), response_format=Response, display=True)"
   ]
  },
  {
   "cell_type": "code",
   "execution_count": 11,
   "metadata": {},
   "outputs": [],
   "source": [
    "# output"
   ]
  },
  {
   "cell_type": "code",
   "execution_count": 12,
   "metadata": {},
   "outputs": [],
   "source": [
    "# session.lm('hasdasd')"
   ]
  },
  {
   "cell_type": "code",
   "execution_count": 13,
   "metadata": {},
   "outputs": [],
   "source": [
    "# x = lm.history[-1]['response']\n",
    "# x = x.choices[0].message.content"
   ]
  },
  {
   "cell_type": "code",
   "execution_count": null,
   "metadata": {},
   "outputs": [],
   "source": []
  }
 ],
 "metadata": {
  "kernelspec": {
   "display_name": "lclzt",
   "language": "python",
   "name": "python3"
  },
  "language_info": {
   "codemirror_mode": {
    "name": "ipython",
    "version": 3
   },
   "file_extension": ".py",
   "mimetype": "text/x-python",
   "name": "python",
   "nbconvert_exporter": "python",
   "pygments_lexer": "ipython3",
   "version": "3.12.0"
  }
 },
 "nbformat": 4,
 "nbformat_minor": 2
}
