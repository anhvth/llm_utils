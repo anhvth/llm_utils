{
 "cells": [
  {
   "cell_type": "code",
   "execution_count": 1,
   "id": "0081003c",
   "metadata": {},
   "outputs": [
    {
     "name": "stdout",
     "output_type": "stream",
     "text": [
      "\u001b[34m\u001b[1mDEBUG   \u001b[0m | \u001b[36mutils_print.py:324 (setup_logger)\u001b[0m - \u001b[34m\u001b[1mLogging set to DEBUG\u001b[0m\n"
     ]
    }
   ],
   "source": [
    "from llm_utils import *"
   ]
  },
  {
   "cell_type": "code",
   "execution_count": null,
   "id": "bfed7e64",
   "metadata": {},
   "outputs": [],
   "source": [
    "LM.start_server(\n",
    "    'unsloth/gemma-3-1b-it'\n",
    ")"
   ]
  },
  {
   "cell_type": "code",
   "execution_count": 11,
   "id": "0d007980",
   "metadata": {},
   "outputs": [
    {
     "name": "stdout",
     "output_type": "stream",
     "text": [
      "\u001b[1mINFO    \u001b[0m | \u001b[36mlm.py:235 (__init__)\u001b[0m - \u001b[1mUsing default model: openai/unsloth/gemma-3-1b-it\u001b[0m\n"
     ]
    }
   ],
   "source": [
    "lm = LM(\n",
    "    port=9150\n",
    ")"
   ]
  },
  {
   "cell_type": "code",
   "execution_count": 14,
   "id": "4b4d42ee",
   "metadata": {},
   "outputs": [
    {
     "data": {
      "text/plain": [
       "'Hello there! How can I help you today? 😊'"
      ]
     },
     "execution_count": 14,
     "metadata": {},
     "output_type": "execute_result"
    }
   ],
   "source": [
    "lm('hello world')"
   ]
  },
  {
   "cell_type": "code",
   "execution_count": null,
   "id": "81e80924",
   "metadata": {},
   "outputs": [],
   "source": []
  }
 ],
 "metadata": {
  "kernelspec": {
   "display_name": "default",
   "language": "python",
   "name": "python3"
  },
  "language_info": {
   "codemirror_mode": {
    "name": "ipython",
    "version": 3
   },
   "file_extension": ".py",
   "mimetype": "text/x-python",
   "name": "python",
   "nbconvert_exporter": "python",
   "pygments_lexer": "ipython3",
   "version": "3.12.9"
  }
 },
 "nbformat": 4,
 "nbformat_minor": 5
}
